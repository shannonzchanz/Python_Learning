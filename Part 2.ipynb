{
 "cells": [
  {
   "cell_type": "raw",
   "metadata": {},
   "source": [
    "Learning outcomes:\n",
    "\n",
    "Recap on part 1\n",
    "more on for operator\n",
    "break statement, timeit module\n",
    "enumerate\n",
    "methods\n",
    "Passing list to methods\n",
    "*args, * *kwargs\n",
    "lambdas expressions\n",
    "Map function\n",
    "List Comprehension\n",
    "OOP. Single Inheritance, Method overriding, Multiple Inheritance, abit on ADT"
   ]
  },
  {
   "cell_type": "code",
   "execution_count": null,
   "metadata": {},
   "outputs": [],
   "source": [
    "# print('G', 'F', 'G')\n",
    "\n",
    "print('G', 'F', 'G', sep='===')"
   ]
  },
  {
   "cell_type": "markdown",
   "metadata": {},
   "source": [
    "=================Examples on for operator================="
   ]
  },
  {
   "cell_type": "code",
   "execution_count": null,
   "metadata": {},
   "outputs": [],
   "source": [
    "## Non-exhaustive list of examples using for operator\n",
    "\n",
    "# syntax: for iterator in iterable\n",
    "\n",
    "# in list\n",
    "\n",
    "# list1 = [\"a\", \"b\", \"c\", \"d\", \"e\"]\n",
    "# for j in list1:  # ele is iterator, list1 is an iterable (mutable lists, immutable strings etc..)\n",
    "#     print (j)\n",
    "\n",
    "# in str\n",
    "\n",
    "# mass comment, you highlight and press Ctrl + /\n",
    "\n",
    "# string1 = \"laptop\"\n",
    "\n",
    "# for a in string1:\n",
    "#     print(a)\n",
    "\n",
    "# in set\n",
    "\n",
    "# set1 = {1,2,3,4,5}\n",
    "\n",
    "# for i in set1:\n",
    "#     print(i)\n",
    "\n",
    "# in dictionary. keys(), values(), items()\n",
    "\n",
    "tech_shop = {\"it_shelf\":[\"laptops\", \"desktops\", \"mouses\"], \"drives\":[\"hdd\", \"ssd\", \"usb\"]}\n",
    "\n",
    "for key in tech_shop.items():\n",
    "    print (key)\n"
   ]
  },
  {
   "cell_type": "code",
   "execution_count": null,
   "metadata": {},
   "outputs": [],
   "source": [
    "# in range(9)\n",
    "\n",
    "# x = range(9)\n",
    "# for num in x: # x is a range object\n",
    "#     print (num)\n",
    "\n",
    "# # in range(len(list))\n",
    "\n",
    "list1 = [1,2,3,4,5]  # 5 has an idex 4, length of list - 1\n",
    "\n",
    "# for x in range(len(list1)):   # len(list) = 5, range(5)\n",
    "#     print (x)\n",
    "\n",
    "# in list\n",
    "\n",
    "# for x in list1:\n",
    "#     print(x)\n",
    "\n",
    "# in list, print list[i]\n",
    "\n",
    "# find the length of a list\n",
    "# print every element starting from index 0 all the way to len-1\n",
    "\n",
    "for i in range(len(list1)): # len(list1) => 5 elements. range(5)\n",
    "                            # mutliple values of i 0, 1, 2, 3, 4\n",
    "    print (list1[i])       # list1[i]. list1[0] = 1, list1[1] = 2 ..."
   ]
  },
  {
   "cell_type": "code",
   "execution_count": null,
   "metadata": {},
   "outputs": [],
   "source": [
    "## Range arguments. start, stop and step\n",
    "\n",
    "# Specify 1 argument:   stop\n",
    "\n",
    "# print(range(9))\n",
    "# print(list(range(9)))  # call a list method on a range object\n",
    "\n",
    "# Specify 2 arguments: start and stop\n",
    "\n",
    "# print (range(3,9))\n",
    "# print (list(range(3,9)))\n",
    "\n",
    "# Specify 3 arguments:  start, stop, step (have to be in order)\n",
    "\n",
    "# print(range(3,9,2))   #start = 3, stop = 9, step = 2\n",
    "# print (list(range(3,9,2)))"
   ]
  },
  {
   "cell_type": "code",
   "execution_count": null,
   "metadata": {},
   "outputs": [],
   "source": [
    "## find sum of numbers from 0 - 8\n",
    "\n",
    "# total = 0\n",
    "# for i in range(9):  # range(9) will give values from 0 -8 \n",
    "#     total += i     # total = total + i\n",
    "# print(total)\n",
    "\n",
    "print(sum(range(9)))  # calling a sum method on a range object"
   ]
  },
  {
   "cell_type": "code",
   "execution_count": null,
   "metadata": {},
   "outputs": [],
   "source": [
    "## convert range(9) into a list\n",
    "\n",
    "print(list(range(9)))"
   ]
  },
  {
   "cell_type": "code",
   "execution_count": null,
   "metadata": {},
   "outputs": [],
   "source": [
    "## double iterators\n",
    "\n",
    "# change status to active\n",
    "\n",
    "users = {\"com1\":\"active\", \"com2\":\"inactive\", \"com3\":\"inactive\"}\n",
    "\n",
    "for key, value in users.items():\n",
    "    if value == \"inactive\":\n",
    "        users[key] = \"active\"\n",
    "        \n",
    "print(users)"
   ]
  },
  {
   "cell_type": "code",
   "execution_count": null,
   "metadata": {},
   "outputs": [],
   "source": [
    "## print elements in nested_list using i, j\n",
    "nested_list = [[1,2],[3,4],[5,6]]\n",
    "\n",
    "# # find total sum of all elements using i, j\n",
    "# total = 0 \n",
    "# for i, j in nested_list:    # i and j describes 1 and 2 for first iter, 3 and 4 for second iter\n",
    "#     total = total + (i + j)\n",
    "    \n",
    "# print (total)\n",
    "    \n",
    "# # find total sum of all tuples using sum method\n",
    "# total = 0\n",
    "# for i in nested_list:  # i to be a sub-list of 1 and 2, sum([1,2]) = 3\n",
    "#      total += sum(i)  \n",
    "    \n",
    "# print(total)\n",
    "\n",
    "# for i, j in nested_list:\n",
    "#     print(i, j)\n",
    "\n",
    "\n",
    "# Can the following work? \n",
    "\n",
    "total = 0\n",
    "for i in nested_list:  # to call the sum method, you have to act on iterables\n",
    "    # print (i)          # and to call on iterables, you need to iterate over sub-lists\n",
    "    total += sum(i)     # sub-lists include [1,2] & [3,4] ..\n",
    "    \n",
    "print(total)"
   ]
  },
  {
   "cell_type": "code",
   "execution_count": null,
   "metadata": {},
   "outputs": [],
   "source": [
    "## break statement\n",
    "import timeit\n",
    "start_time = timeit.default_timer()  # default_timer is a method of the timeit module\n",
    "\n",
    "\n",
    "# search for value of 5 in list\n",
    "\n",
    "list1 = [1,2,3,5,7,8,9,10]\n",
    "\n",
    "for i in list1:   # i describes every element of the list\n",
    "    if i == 5:\n",
    "        print(5)   # once the value is found, break out of for loop\n",
    "        break\n",
    "        \n",
    "end_time = timeit.default_timer()\n",
    "\n",
    "duration = end_time - start_time\n",
    "print(duration)  # 0.000222619 without break statement\n",
    "print (duration)  # 0.0002048 with break statement\n"
   ]
  },
  {
   "cell_type": "markdown",
   "metadata": {},
   "source": [
    "=================Enumerate================="
   ]
  },
  {
   "cell_type": "code",
   "execution_count": null,
   "metadata": {},
   "outputs": [],
   "source": [
    "# Acts as an automatic counter\n",
    "\n",
    "# https://book.pythontips.com/en/latest/enumerate.html\n",
    "\n",
    "my_list = ['apple', 'banana', 'grapes', 'pear']\n",
    "for counter, item in enumerate(my_list):    # start from 3\n",
    "    print (counter, item)"
   ]
  },
  {
   "cell_type": "code",
   "execution_count": null,
   "metadata": {},
   "outputs": [],
   "source": [
    "# Creating enumerate objects\n",
    "students = [\"aaron\", \"blake\", \"denise\"]\n",
    "attendance_list = enumerate(students)\n",
    "print(type(attendance_list))\n",
    "print (list(attendance_list)) # calling a list on range object"
   ]
  },
  {
   "cell_type": "markdown",
   "metadata": {},
   "source": [
    "=================Methods================="
   ]
  },
  {
   "cell_type": "markdown",
   "metadata": {},
   "source": [
    "Use 4 space indentation, do not use tabs.\n",
    "Methods should be named in lowercase_with_underscores\n",
    "Use spaces around operators and after commas\n",
    "\n",
    "Check out this link at the end of the page for coding style\n",
    "https://docs.python.org/3/tutorial/controlflow.html#unpacking-argument-lists"
   ]
  },
  {
   "cell_type": "markdown",
   "metadata": {},
   "source": [
    "=================Calling methods and passing in values================="
   ]
  },
  {
   "cell_type": "code",
   "execution_count": null,
   "metadata": {},
   "outputs": [],
   "source": [
    "def add_method(a,b):\n",
    "    print(a + b)\n",
    "    \n",
    "def mult_method(a,b):\n",
    "    print(a * b)\n",
    "    \n",
    "mult_method(9,5)"
   ]
  },
  {
   "cell_type": "code",
   "execution_count": null,
   "metadata": {},
   "outputs": [],
   "source": [
    "## list linear search without method\n",
    "\n",
    "list1 = [1,2,3,4,5]\n",
    "\n",
    "for i in list1:  # i describes every element of the list\n",
    "    if i == 100:\n",
    "        print(\"Value found\")"
   ]
  },
  {
   "cell_type": "code",
   "execution_count": null,
   "metadata": {},
   "outputs": [],
   "source": [
    "## pass list and desired value in search method\n",
    "\n",
    "def search_for_value(list_of_values, value):\n",
    "    found = False\n",
    "    for i in list_of_values:\n",
    "        if i == value:  # if i is not equal to value, found = False by default\n",
    "            found = True\n",
    "\n",
    "    if (found):\n",
    "        print(value, \"is found\")\n",
    "    else:\n",
    "        print (value, \"not found\")\n",
    "        \n",
    "# Use control flags\n",
    "\n",
    "search_for_value(list1, 10)"
   ]
  },
  {
   "cell_type": "code",
   "execution_count": null,
   "metadata": {},
   "outputs": [],
   "source": [
    "## pass dictionary to search method\n",
    "\n",
    "tech_shop = {\"it_shelf\":[\"laptops\", \"desktops\", \"mouses\"], \"drives\":[\"hdd\", \"ssd\", \"usb\"]}\n"
   ]
  },
  {
   "cell_type": "markdown",
   "metadata": {},
   "source": [
    "=================Positional arguments================="
   ]
  },
  {
   "cell_type": "code",
   "execution_count": null,
   "metadata": {},
   "outputs": [],
   "source": [
    "def animals(animal1, animal2):\n",
    "    print(animal1, \" is a mammal\")\n",
    "    print(animal2, \" is a reptile\")\n",
    "    \n",
    "animals(\"elephant\", \"chameleon\")"
   ]
  },
  {
   "cell_type": "markdown",
   "metadata": {},
   "source": [
    "=================Default arguments================="
   ]
  },
  {
   "cell_type": "code",
   "execution_count": null,
   "metadata": {},
   "outputs": [],
   "source": [
    "def addition(a, b=2, c=3):\n",
    "    print(\"a is\", a)\n",
    "    print(\"b is\", b)\n",
    "    print(\"c is\", c)\n",
    "    print(\"sum is\", a+b+c)\n",
    "    \n",
    "#addition(1)  # specifying value of a\n",
    "\n",
    "addition(1,4)  # specifying values of a & b\n",
    "\n",
    "# key thing is to put all the default arguments to the back"
   ]
  },
  {
   "cell_type": "markdown",
   "metadata": {},
   "source": [
    "=================*args and **kwargs================="
   ]
  },
  {
   "cell_type": "code",
   "execution_count": null,
   "metadata": {},
   "outputs": [],
   "source": [
    "## def method(*args), flexible arguments\n",
    "\n",
    "def addition1(*args):  # *args = 1, 5, 10...\n",
    "    total = 0\n",
    "    for i in args:\n",
    "        total += i\n",
    "    return total\n",
    "\n",
    "addition1(1,2,3,4,5,100)\n",
    "    "
   ]
  },
  {
   "cell_type": "code",
   "execution_count": null,
   "metadata": {},
   "outputs": [],
   "source": [
    "## def method (*args), printing nested tuples\n",
    "\n",
    "nested_tuples = ((1,2), (3,4), (5,6))\n",
    "\n",
    "def print_elements(*nested_tuples):\n",
    "    for i, j in nested_tuples:\n",
    "        print (i, j)\n",
    "        \n",
    "print_elements(nested_tuples)"
   ]
  },
  {
   "cell_type": "markdown",
   "metadata": {},
   "source": [
    "=================Unpack start, stop and step using range================="
   ]
  },
  {
   "cell_type": "code",
   "execution_count": null,
   "metadata": {},
   "outputs": [],
   "source": [
    "# calling a range class will unpack a list to give start, stop and step arguments\n",
    "\n",
    "args = [3,9,2]  # args list\n",
    "\n",
    "a = list(range(*args))  # unpack args list, pass it into a range method to give range(3,9,2)\n",
    "                        # call list method on range(3, 9, 2)\n",
    "print(a)"
   ]
  },
  {
   "cell_type": "code",
   "execution_count": null,
   "metadata": {},
   "outputs": [],
   "source": [
    "## def method(**kwargs), keyword arguments\n",
    "\n",
    "def imdb_ratings(**kwargs):  # kwargs is a dictionary\n",
    "    for kw in kwargs:  # for key in dict\n",
    "        print(kwargs[kw])  # print value of the key. syntax: dict[key] = value\n",
    "    \n",
    "imdb_ratings(movie_a=9.0, movie_b=8.5)  # keys are movie_a, movie_b, values are 9.0 and 8.5"
   ]
  },
  {
   "cell_type": "raw",
   "metadata": {},
   "source": [
    "=================Summary=================\n",
    "\n",
    "Function definition should be:\n",
    "\n",
    "def f(pos1, pos2, *args, **kwargs)"
   ]
  },
  {
   "cell_type": "markdown",
   "metadata": {},
   "source": [
    "=================Lambdas expression================="
   ]
  },
  {
   "cell_type": "code",
   "execution_count": null,
   "metadata": {},
   "outputs": [],
   "source": [
    "# https://www.w3schools.com/python/python_lambda.asp\n",
    "\n",
    "# def method(a):\n",
    "#     return a+10\n",
    "# x = method(5)\n",
    "\n",
    "x = lambda a : a + 10  # before semi-colon, parameters, after semi-colon body\n",
    "print (x(12))"
   ]
  },
  {
   "cell_type": "code",
   "execution_count": null,
   "metadata": {},
   "outputs": [],
   "source": [
    "# https://book.pythontips.com/en/latest/lambdas.html\n",
    "# syntax\n",
    "# name = lambda parameters : expression\n",
    "\n",
    "add = lambda x, y : x + y\n",
    "\n",
    "\n",
    "print (add(10,5))"
   ]
  },
  {
   "cell_type": "markdown",
   "metadata": {},
   "source": [
    "=================Map function================="
   ]
  },
  {
   "cell_type": "code",
   "execution_count": null,
   "metadata": {},
   "outputs": [],
   "source": [
    "# a map function will act on an iterable and return a map object\n",
    "# a map object is an iterator itself\n",
    "# a list is an iterable\n",
    "\n",
    "list1 = [1,2,3,4,5]  \n",
    "\n",
    "def square(x):\n",
    "    return x**2\n",
    "\n",
    "# square every element of the list\n",
    "\n",
    "map_object = map(square, list1)  # first parameter, name of method, second parameter, name of iterable\n",
    "\n",
    "# print(map_object)\n",
    "\n",
    "# # for i in map_object:\n",
    "# #     print(i)\n",
    "    \n",
    "# print (type(map_object))\n",
    "# print(next(map_object))  # print first element of map object which is 1\n",
    "# print(next(map_object))  # print second element of map object which is 4\n",
    "\n",
    "# next is quite similar to generators in python\n",
    "\n",
    "squared_list = list(map_object)\n",
    "print(squared_list)"
   ]
  },
  {
   "cell_type": "code",
   "execution_count": null,
   "metadata": {},
   "outputs": [],
   "source": [
    "# use lambdas in map function\n",
    "list1 = [1,2,3,4,5]\n",
    "y = lambda x : x*x\n",
    "result = map(y , list1)\n",
    "print (result)  # map object\n",
    "\n",
    "print (list(result))"
   ]
  },
  {
   "cell_type": "markdown",
   "metadata": {},
   "source": [
    "=================List Comprehension================="
   ]
  },
  {
   "cell_type": "code",
   "execution_count": null,
   "metadata": {},
   "outputs": [],
   "source": [
    "# Traditional Way\n",
    "squares = []\n",
    "for x in range(10):  # introduce squares to contain elements of squares of 0,1,2,3,4,5.. 9\n",
    "    squares.append(x**2)\n",
    "\n",
    "print (squares)\n",
    "\n",
    "## Using list comprehension\n",
    "\n",
    "new_squares = [i**2 for i in range(100)]\n",
    "print (new_squares)"
   ]
  },
  {
   "cell_type": "code",
   "execution_count": null,
   "metadata": {},
   "outputs": [],
   "source": [
    "# Specifying start argument only\n",
    "\n",
    "nested_lists = [      [i for i in range(4)]         for i in range(5)]\n",
    "print(nested_lists)"
   ]
  },
  {
   "cell_type": "code",
   "execution_count": null,
   "metadata": {},
   "outputs": [],
   "source": [
    "# Specifying start and stop arguments\n",
    "\n",
    "nested_lists = [     [i for i in range(4)]      for i in range(3, 7)]\n",
    "print(nested_lists)"
   ]
  },
  {
   "cell_type": "code",
   "execution_count": null,
   "metadata": {},
   "outputs": [],
   "source": [
    "# matrix transposition is to switch rows and columns\n",
    "# E.g. 1st column will be your 1st row, 2nd column will be your 2nd row, ..\n",
    "\n",
    "matrix = [[1, 2, 3, 4],\n",
    "          [5, 6, 7, 8],\n",
    "          [9, 10, 11, 12]]\n",
    "\n",
    "transposed_matrix = [     [row[i] for row in matrix]      for i in range(4)]\n",
    "\n",
    "# for row in matrix, [1,2,3,4]  ,  [5, 6 ,7, 8],  [9, 10, 11, 12]\n",
    "# row[i],  row[0], row[1], row[2], row[3] : 1, 2, 3, 4 \n",
    "# for i in range(4) 0, 1, 2, 3\n",
    "\n",
    "print (transposed_matrix)\n",
    "\n",
    "# [[1, 5, 9],\n",
    "#  [2, 6, 10],\n",
    "#  [3, 7, 11],\n",
    "#  [4, 8, 12]]"
   ]
  },
  {
   "cell_type": "markdown",
   "metadata": {},
   "source": [
    "=================Classes and objects================="
   ]
  },
  {
   "cell_type": "markdown",
   "metadata": {},
   "source": [
    "Objects and classes documentation:\n",
    "https://docs.python.org/3/tutorial/classes.html#:~:text=Python%20classes%20provide%20all%20the,class%20with%20the%20same%20name.\n",
    "\n",
    "Naming convention:\n",
    "https://www.python.org/dev/peps/pep-0008/#:~:text=using%20a%20synonym.)-,Method%20Names%20and%20Instance%20Variables,public%20methods%20and%20instance%20variables.\n",
    "\n",
    "By standard naming convention, \n",
    "1. Name of classes should be capitalized\n",
    "2. Name of methods and instance variables should be in lowercase with words separated by underscores necessary"
   ]
  },
  {
   "cell_type": "code",
   "execution_count": 2,
   "metadata": {},
   "outputs": [
    {
     "name": "stdout",
     "output_type": "stream",
     "text": [
      "170\n",
      "45\n"
     ]
    }
   ],
   "source": [
    "## Track someone's characteristics in a medical database\n",
    "\n",
    "# name, blood type, height and weight\n",
    "\n",
    "class Person():  # class is called a person, blueprint\n",
    "    \n",
    "    # magic or dunder method, 2 underscores before and 2 underscores after\n",
    "    \n",
    "    def __init__(self, name, blood_type, height, weight): #constructor method\n",
    "        self.name = name    #self.name instance variable, name actual parameter\n",
    "        self.blood_type = blood_type\n",
    "        self.height = height\n",
    "        self.weight = weight\n",
    "        \n",
    "# create an objects of the class\n",
    "\n",
    "a = Person(\"Aaron\", \"A\", 170, 60)  # instantiation\n",
    "\n",
    "# instantiation process where by you create an instance of the class\n",
    "# instance and object are used interchangeably\n",
    "\n",
    "b = Person('Jane', \"B\", 150, 45)\n",
    "\n",
    "print(a.height)  # dot operator\n",
    "print(b.weight) # weight of Jane"
   ]
  },
  {
   "cell_type": "code",
   "execution_count": 5,
   "metadata": {},
   "outputs": [
    {
     "name": "stdout",
     "output_type": "stream",
     "text": [
      "320\n",
      "160.0\n"
     ]
    }
   ],
   "source": [
    "## Storing objects in a list\n",
    "\n",
    "list_of_people = [a, b]  # we are storing objects in a list\n",
    "\n",
    "total_height = 0    \n",
    "for people in list_of_people:   # iterator: people\n",
    "    total_height = total_height + people.height   # height of every element\n",
    "    \n",
    "print(total_height)\n",
    "\n",
    "average_height = total_height / len(list_of_people)\n",
    "\n",
    "print(average_height)\n"
   ]
  },
  {
   "cell_type": "code",
   "execution_count": 7,
   "metadata": {},
   "outputs": [
    {
     "name": "stdout",
     "output_type": "stream",
     "text": [
      "1000.0\n",
      "True\n"
     ]
    }
   ],
   "source": [
    "## Another example on banking\n",
    "\n",
    "class BankAccount():\n",
    "    \n",
    "    def __init__(self, age, savings, interest_rate): # actual values been passed into the constructor method\n",
    "        self.age = age\n",
    "        self.savings = savings\n",
    "        self.interest_rate = interest_rate\n",
    "        \n",
    "    def calculate_interest(self):\n",
    "        return self.savings * self.interest_rate\n",
    "    \n",
    "    def eligible_for_creditcard(self):\n",
    "        if self.age > 18:\n",
    "            return True\n",
    "        else:\n",
    "            return False\n",
    "    \n",
    "a = BankAccount(20, 20000, 0.05)  #interest rate is in percent\n",
    "\n",
    "print(a.calculate_interest())\n",
    "print(a.eligible_for_creditcard())                    \n",
    "    \n",
    "        "
   ]
  },
  {
   "cell_type": "code",
   "execution_count": 15,
   "metadata": {},
   "outputs": [
    {
     "name": "stdout",
     "output_type": "stream",
     "text": [
      "bank A\n",
      "bank A\n",
      "bank A\n",
      "['__class__', '__delattr__', '__dict__', '__dir__', '__doc__', '__eq__', '__format__', '__ge__', '__getattribute__', '__gt__', '__hash__', '__init__', '__init_subclass__', '__le__', '__lt__', '__module__', '__ne__', '__new__', '__reduce__', '__reduce_ex__', '__repr__', '__setattr__', '__sizeof__', '__str__', '__subclasshook__', '__weakref__', 'bank', 'calculate_interest', 'eligible_for_creditcard']\n"
     ]
    }
   ],
   "source": [
    "## Instance variables vs class variables\n",
    "\n",
    "class BankAccount():\n",
    "    \n",
    "    bank = \"bank A\" # string variable named bank is known as a class variable. \n",
    "                    # it does not have a self parameter\n",
    "                    # applies to every single object of this class\n",
    "    \n",
    "    def __init__(self, age, savings, interest_rate): # actual values been passed into the constructor method\n",
    "        self.age = age\n",
    "        self.savings = savings\n",
    "        self.interest_rate = interest_rate\n",
    "        \n",
    "    def calculate_interest(self):\n",
    "        return self.savings * self.interest_rate\n",
    "    \n",
    "    def eligible_for_creditcard(self):\n",
    "        if self.age > 18:\n",
    "            return True\n",
    "        else:\n",
    "            return False\n",
    "        \n",
    "    def __repr__(self):\n",
    "        return ('An account has been created with {} interest rate'.format(self.interest_rate))\n",
    "    \n",
    "        \n",
    "a = BankAccount(20, 20000, 0.05)\n",
    "b = BankAccount(18, 10000, 0.05)\n",
    "c = BankAccount(30, 40000, 1.25)\n",
    "\n",
    "print (a.bank)\n",
    "print(b.bank)\n",
    "print(c.bank)\n",
    "\n",
    "# class variables is been shared by every single object that is instantiated from the same class\n",
    "\n",
    "repr(a)\n",
    "\n",
    "# print(dir(object))  # class object is a mother of all classes\n",
    "\n",
    "print (dir(BankAccount))"
   ]
  },
  {
   "cell_type": "markdown",
   "metadata": {},
   "source": [
    "=================Single inheritance================="
   ]
  },
  {
   "cell_type": "code",
   "execution_count": 18,
   "metadata": {},
   "outputs": [
    {
     "name": "stdout",
     "output_type": "stream",
     "text": [
      "Tim\n",
      "30\n",
      "I am an employee of this company\n",
      "I am a full-time staff\n"
     ]
    }
   ],
   "source": [
    "## Single inheritance\n",
    "\n",
    "# Child (derived) class inherits from parent (base) class \n",
    "\n",
    "class Employee():\n",
    "    \n",
    "    def __init__(self, name, age):\n",
    "        self.name = name\n",
    "        self.age = age\n",
    "        \n",
    "    def introduce(self):\n",
    "        print(\"I am an employee of this company\")\n",
    "\n",
    "        \n",
    "class FullTimeStaff(Employee):\n",
    "    \n",
    "    # no constructor method. it will inherit constructor method from the parent class\n",
    "    \n",
    "    def introduce(self):\n",
    "        super().introduce()   # I am an employee of this company\n",
    "        print('I am a full-time staff')\n",
    "        \n",
    "    # method overriding\n",
    "        \n",
    "x = FullTimeStaff(\"Tim\", 30)\n",
    "print (x.name)\n",
    "print (x.age)\n",
    "x.introduce()"
   ]
  },
  {
   "cell_type": "code",
   "execution_count": 20,
   "metadata": {},
   "outputs": [
    {
     "name": "stdout",
     "output_type": "stream",
     "text": [
      "Aaron\n",
      "30\n",
      "4\n"
     ]
    }
   ],
   "source": [
    "## override constructor for child class\n",
    "\n",
    "\n",
    "class Employee():\n",
    "    \n",
    "    def __init__(self, name, age):\n",
    "        self.name = name\n",
    "        self.age = age\n",
    "        \n",
    "    def introduce(self):\n",
    "        print(\"I am an employee of this company\")\n",
    "\n",
    "# working years for full time staff\n",
    "\n",
    "class FullTimeStaff(Employee):\n",
    "    \n",
    "    def __init__(self, name, age, working_years):\n",
    "        Employee.__init__(self, name, age)\n",
    "        self.working_years = working_years\n",
    "        \n",
    "    \n",
    "    def introduce(self):\n",
    "        print('I am a full-time staff')\n",
    "        \n",
    "    # method overriding\n",
    "    \n",
    "x = FullTimeStaff('Aaron', 30, 4)\n",
    "print(x.name)\n",
    "print(x.age)\n",
    "print(x.working_years)\n",
    "        "
   ]
  },
  {
   "cell_type": "code",
   "execution_count": 22,
   "metadata": {},
   "outputs": [
    {
     "name": "stdout",
     "output_type": "stream",
     "text": [
      "Bryan\n",
      "20\n",
      "Intern's Report\n"
     ]
    },
    {
     "ename": "AttributeError",
     "evalue": "'Intern' object has no attribute 'working_years'",
     "output_type": "error",
     "traceback": [
      "\u001b[1;31m---------------------------------------------------------------------------\u001b[0m",
      "\u001b[1;31mAttributeError\u001b[0m                            Traceback (most recent call last)",
      "\u001b[1;32m<ipython-input-22-f0546c94c568>\u001b[0m in \u001b[0;36m<module>\u001b[1;34m\u001b[0m\n\u001b[0;32m     16\u001b[0m \u001b[0mprint\u001b[0m\u001b[1;33m(\u001b[0m\u001b[0my\u001b[0m\u001b[1;33m.\u001b[0m\u001b[0mproject\u001b[0m\u001b[1;33m)\u001b[0m\u001b[1;33m\u001b[0m\u001b[1;33m\u001b[0m\u001b[0m\n\u001b[0;32m     17\u001b[0m \u001b[1;33m\u001b[0m\u001b[0m\n\u001b[1;32m---> 18\u001b[1;33m \u001b[0mprint\u001b[0m \u001b[1;33m(\u001b[0m\u001b[0my\u001b[0m\u001b[1;33m.\u001b[0m\u001b[0mworking_years\u001b[0m\u001b[1;33m)\u001b[0m\u001b[1;33m\u001b[0m\u001b[1;33m\u001b[0m\u001b[0m\n\u001b[0m",
      "\u001b[1;31mAttributeError\u001b[0m: 'Intern' object has no attribute 'working_years'"
     ]
    }
   ],
   "source": [
    "## Add intern class\n",
    "\n",
    "class Intern(Employee):\n",
    "    \n",
    "    def __init__(self, name, age, project):\n",
    "        Employee.__init__(self, name, age)\n",
    "        self.project = project # unique instance attribute\n",
    "        \n",
    "    def introduce(self):\n",
    "        print ('I am an intern')\n",
    "        \n",
    "x = FullTimeStaff('Aaron', 30, 4)  # name, age, working_years\n",
    "y = Intern(\"Bryan\", 20, \"Intern's Report\") # name, age, project\n",
    "print(y.name)\n",
    "print(y.age)\n",
    "print(y.project)\n",
    "\n",
    "# print (y.working_years) will not work "
   ]
  },
  {
   "cell_type": "markdown",
   "metadata": {},
   "source": [
    "=================Multiple inheritance================="
   ]
  },
  {
   "cell_type": "code",
   "execution_count": 23,
   "metadata": {},
   "outputs": [
    {
     "name": "stdout",
     "output_type": "stream",
     "text": [
      "Tim\n",
      "27\n",
      "2\n",
      "Linux\n"
     ]
    }
   ],
   "source": [
    "## Inherit from \"grandclasses\", Engineers class now focus on expertise\n",
    "\n",
    "class Employee():\n",
    "    \n",
    "    def __init__(self, name, age):\n",
    "        self.name = name\n",
    "        self.age = age\n",
    "        \n",
    "    def introduce(self):\n",
    "        print(\"I am an employee of this company\")\n",
    "\n",
    "# working years for full time staff\n",
    "\n",
    "class FullTimeStaff(Employee):\n",
    "    \n",
    "    def __init__(self, name, age, working_years):\n",
    "        Employee.__init__(self, name, age)\n",
    "        self.working_years = working_years\n",
    "        \n",
    "    \n",
    "    def introduce(self):\n",
    "        print('I am a full-time staff')\n",
    "        \n",
    "        \n",
    "class Engineers(FullTimeStaff):\n",
    "    \n",
    "    def __init__(self, name, age, working_years, expertise):\n",
    "        FullTimeStaff.__init__(self, name, age, working_years)\n",
    "        self.expertise = expertise\n",
    "        \n",
    "    def display_expertise(self):\n",
    "        print(self.name, \"is experienced in \", self.expertise)\n",
    "        \n",
    "\n",
    "z = Engineers(\"Tim\", 27, 2, \"Linux\")\n",
    "\n",
    "\n",
    "print(z.name)\n",
    "print(z.age)\n",
    "print(z.working_years)\n",
    "print(z.expertise)\n",
    "        \n",
    "        "
   ]
  },
  {
   "cell_type": "markdown",
   "metadata": {},
   "source": [
    "=================Multiple inheritance (Inherit from double classes)================="
   ]
  },
  {
   "cell_type": "code",
   "execution_count": 28,
   "metadata": {},
   "outputs": [
    {
     "name": "stdout",
     "output_type": "stream",
     "text": [
      "Peter is experienced in Python\n",
      "Peter is experienced in HR\n"
     ]
    }
   ],
   "source": [
    "## Inherit from double classes, HR class not concerned on expertise\n",
    "\n",
    "class Employee():\n",
    "    \n",
    "    def __init__(self, name, age):\n",
    "        self.name = name\n",
    "        self.age = age\n",
    "        \n",
    "    def introduce(self):\n",
    "        print(\"I am an employee of this company\")\n",
    "\n",
    "# working years for full time staff\n",
    "\n",
    "class FullTimeStaff(Employee):\n",
    "    \n",
    "    def __init__(self, name, age, working_years):\n",
    "        Employee.__init__(self, name, age)\n",
    "        self.working_years = working_years\n",
    "        \n",
    "    \n",
    "    def introduce(self):\n",
    "        print('I am a full-time staff')\n",
    "        \n",
    "        \n",
    "class Engineers(FullTimeStaff):\n",
    "    \n",
    "    def __init__(self, name, age, working_years, expertise):\n",
    "        FullTimeStaff.__init__(self, name, age, working_years)\n",
    "        self.expertise = expertise\n",
    "        \n",
    "    def display_expertise(self):\n",
    "        print(self.name, \"is experienced in\", self.expertise)\n",
    "        \n",
    "class HR(FullTimeStaff):\n",
    "    \n",
    "    def display_HR_expertise(self):\n",
    "        print(self.name, \"is experienced in HR\")\n",
    "        \n",
    "class MasterEmployees(Engineers, HR):\n",
    "    pass\n",
    "\n",
    "\n",
    "# a = HR(\"Jenny\", 30, 2)  # Rely on Full Time Staff class constructor\n",
    "# a.display_HR_expertise()\n",
    "# print(a.name)\n",
    "# print(a.age)\n",
    "# print(a.working_years)\n",
    "\n",
    "\n",
    "z = MasterEmployees(\"Peter\", 30, 2, \"Python\")\n",
    "z.display_expertise()\n",
    "z.display_HR_expertise()\n"
   ]
  },
  {
   "cell_type": "markdown",
   "metadata": {},
   "source": [
    "=================Check if a object is an instance of a class================="
   ]
  },
  {
   "cell_type": "code",
   "execution_count": 31,
   "metadata": {},
   "outputs": [
    {
     "name": "stdout",
     "output_type": "stream",
     "text": [
      "True\n",
      "False\n"
     ]
    }
   ],
   "source": [
    "## check if object is part of class\n",
    "\n",
    "# z being an object of MasterEmployees\n",
    "\n",
    "# print(isinstance(z, MasterEmployees))  # return True or False\n",
    "\n",
    "print(issubclass(FullTimeStaff, Employee))\n",
    "\n",
    "print(issubclass(Employee, FullTimeStaff))"
   ]
  },
  {
   "cell_type": "raw",
   "metadata": {},
   "source": [
    "# a note on private variables in Python\n",
    "\n",
    "https://stackoverflow.com/questions/1641219/does-python-have-private-variables-in-classes"
   ]
  },
  {
   "cell_type": "markdown",
   "metadata": {},
   "source": [
    "=================Bult-in classes================="
   ]
  },
  {
   "cell_type": "code",
   "execution_count": 33,
   "metadata": {},
   "outputs": [
    {
     "name": "stdout",
     "output_type": "stream",
     "text": [
      "['__abs__', '__add__', '__and__', '__bool__', '__ceil__', '__class__', '__delattr__', '__dir__', '__divmod__', '__doc__', '__eq__', '__float__', '__floor__', '__floordiv__', '__format__', '__ge__', '__getattribute__', '__getnewargs__', '__gt__', '__hash__', '__index__', '__init__', '__init_subclass__', '__int__', '__invert__', '__le__', '__lshift__', '__lt__', '__mod__', '__mul__', '__ne__', '__neg__', '__new__', '__or__', '__pos__', '__pow__', '__radd__', '__rand__', '__rdivmod__', '__reduce__', '__reduce_ex__', '__repr__', '__rfloordiv__', '__rlshift__', '__rmod__', '__rmul__', '__ror__', '__round__', '__rpow__', '__rrshift__', '__rshift__', '__rsub__', '__rtruediv__', '__rxor__', '__setattr__', '__sizeof__', '__str__', '__sub__', '__subclasshook__', '__truediv__', '__trunc__', '__xor__', 'bit_length', 'conjugate', 'denominator', 'from_bytes', 'imag', 'numerator', 'real', 'to_bytes']\n"
     ]
    },
    {
     "data": {
      "text/plain": [
       "8"
      ]
     },
     "execution_count": 33,
     "metadata": {},
     "output_type": "execute_result"
    }
   ],
   "source": [
    "# using dir to view built-in magic methods  \n",
    "\n",
    "# https://www.programiz.com/python-programming/operator-overloading\n",
    "\n",
    "\n",
    "x = 5\n",
    "print (dir(int))  # integer class has plenty of built-in magic methods\n",
    "x.__add__(3)  # add value of x and 5\n",
    "print(x+5) # + is an emulation of the __add__ method"
   ]
  },
  {
   "cell_type": "code",
   "execution_count": 34,
   "metadata": {},
   "outputs": [
    {
     "name": "stdout",
     "output_type": "stream",
     "text": [
      "['__class__', '__contains__', '__delattr__', '__delitem__', '__dir__', '__doc__', '__eq__', '__format__', '__ge__', '__getattribute__', '__getitem__', '__gt__', '__hash__', '__init__', '__init_subclass__', '__iter__', '__le__', '__len__', '__lt__', '__ne__', '__new__', '__reduce__', '__reduce_ex__', '__repr__', '__setattr__', '__setitem__', '__sizeof__', '__str__', '__subclasshook__', 'clear', 'copy', 'fromkeys', 'get', 'items', 'keys', 'pop', 'popitem', 'setdefault', 'update', 'values']\n"
     ]
    }
   ],
   "source": [
    "tech_shop = {\"it_shelf\":[\"laptops\", \"desktops\", \"mouses\"], \"drives\":[\"hdd\", \"ssd\", \"usb\"]}\n",
    "\n",
    "print (dir(tech_shop))"
   ]
  },
  {
   "cell_type": "code",
   "execution_count": 35,
   "metadata": {},
   "outputs": [
    {
     "name": "stdout",
     "output_type": "stream",
     "text": [
      "['__add__', '__class__', '__contains__', '__delattr__', '__dir__', '__doc__', '__eq__', '__format__', '__ge__', '__getattribute__', '__getitem__', '__getnewargs__', '__gt__', '__hash__', '__init__', '__init_subclass__', '__iter__', '__le__', '__len__', '__lt__', '__mod__', '__mul__', '__ne__', '__new__', '__reduce__', '__reduce_ex__', '__repr__', '__rmod__', '__rmul__', '__setattr__', '__sizeof__', '__str__', '__subclasshook__', 'capitalize', 'casefold', 'center', 'count', 'encode', 'endswith', 'expandtabs', 'find', 'format', 'format_map', 'index', 'isalnum', 'isalpha', 'isascii', 'isdecimal', 'isdigit', 'isidentifier', 'islower', 'isnumeric', 'isprintable', 'isspace', 'istitle', 'isupper', 'join', 'ljust', 'lower', 'lstrip', 'maketrans', 'partition', 'replace', 'rfind', 'rindex', 'rjust', 'rpartition', 'rsplit', 'rstrip', 'split', 'splitlines', 'startswith', 'strip', 'swapcase', 'title', 'translate', 'upper', 'zfill']\n"
     ]
    }
   ],
   "source": [
    "word = \"Python\"\n",
    "# variable word is actually an object of a string class\n",
    "print (dir(word))"
   ]
  }
 ],
 "metadata": {
  "kernelspec": {
   "display_name": "Python 3",
   "language": "python",
   "name": "python3"
  },
  "language_info": {
   "codemirror_mode": {
    "name": "ipython",
    "version": 3
   },
   "file_extension": ".py",
   "mimetype": "text/x-python",
   "name": "python",
   "nbconvert_exporter": "python",
   "pygments_lexer": "ipython3",
   "version": "3.7.4"
  }
 },
 "nbformat": 4,
 "nbformat_minor": 4
}
